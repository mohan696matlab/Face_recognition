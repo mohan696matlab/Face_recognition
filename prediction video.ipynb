{
 "cells": [
  {
   "cell_type": "code",
   "execution_count": 17,
   "metadata": {},
   "outputs": [],
   "source": [
    "import cv2\n",
    "import keras\n",
    "import numpy as np\n",
    "model = keras.models.load_model(\"model_vgg19.h5\")\n",
    "label2alien={0:\"Jerry\",1:'Mohan',2:\"Swagat\"}\n",
    "\n",
    "face_cascade = cv2.CascadeClassifier(r\"C:\\Users\\mohan\\miniconda3\\envs\\tensorflow\\lib\\site-packages\\cv2\\data\\haarcascade_frontalface_default.xml\")\n",
    "\n",
    "source = cv2.VideoCapture(0)\n",
    "\n",
    "\n",
    "while True:\n",
    "    \n",
    "    check,img = source.read()\n",
    "    img = cv2.flip(img, 1)\n",
    "     \n",
    "    face = face_cascade.detectMultiScale(img,scaleFactor = 1.1,minNeighbors=5)\n",
    "    \n",
    "    for x,y,w,h in face:\n",
    "        \n",
    "        \n",
    "        resized_img = (cv2.resize(img,(224,224)))/255.0\n",
    "        \n",
    "        pred = model.predict(resized_img.reshape(1,224,224,3))\n",
    "        \n",
    "        pred = np.argmax(pred, axis=1)\n",
    "        \n",
    "        label = label2alien[pred[0]]\n",
    "        \n",
    "        cv2.rectangle(img,(x,y),(x+w,y+h),(255,0,0),2)\n",
    "        \n",
    "        cv2.putText(img, label2alien[pred[0]], (x, y-20),cv2.FONT_HERSHEY_SIMPLEX,0.8,(255,0,0),3)\n",
    "\n",
    "    \n",
    "    \n",
    "    \n",
    "    cv2.imshow('live',img)\n",
    "    key = cv2.waitKey(1)\n",
    "    \n",
    "    if key == ord('q'):\n",
    "        break\n",
    "\n",
    "source.release()\n",
    "cv2.destroyAllWindows()"
   ]
  },
  {
   "cell_type": "code",
   "execution_count": 9,
   "metadata": {},
   "outputs": [
    {
     "data": {
      "text/plain": [
       "0"
      ]
     },
     "execution_count": 9,
     "metadata": {},
     "output_type": "execute_result"
    }
   ],
   "source": [
    "pred[0]"
   ]
  },
  {
   "cell_type": "code",
   "execution_count": 13,
   "metadata": {},
   "outputs": [
    {
     "data": {
      "text/plain": [
       "array([[0.9528706 , 0.02579518, 0.02133425]], dtype=float32)"
      ]
     },
     "execution_count": 13,
     "metadata": {},
     "output_type": "execute_result"
    }
   ],
   "source": [
    "pred"
   ]
  },
  {
   "cell_type": "code",
   "execution_count": null,
   "metadata": {},
   "outputs": [],
   "source": []
  }
 ],
 "metadata": {
  "kernelspec": {
   "display_name": "Python 3",
   "language": "python",
   "name": "python3"
  },
  "language_info": {
   "codemirror_mode": {
    "name": "ipython",
    "version": 3
   },
   "file_extension": ".py",
   "mimetype": "text/x-python",
   "name": "python",
   "nbconvert_exporter": "python",
   "pygments_lexer": "ipython3",
   "version": "3.7.7"
  },
  "varInspector": {
   "cols": {
    "lenName": 16,
    "lenType": 16,
    "lenVar": 40
   },
   "kernels_config": {
    "python": {
     "delete_cmd_postfix": "",
     "delete_cmd_prefix": "del ",
     "library": "var_list.py",
     "varRefreshCmd": "print(var_dic_list())"
    },
    "r": {
     "delete_cmd_postfix": ") ",
     "delete_cmd_prefix": "rm(",
     "library": "var_list.r",
     "varRefreshCmd": "cat(var_dic_list()) "
    }
   },
   "types_to_exclude": [
    "module",
    "function",
    "builtin_function_or_method",
    "instance",
    "_Feature"
   ],
   "window_display": false
  }
 },
 "nbformat": 4,
 "nbformat_minor": 4
}
